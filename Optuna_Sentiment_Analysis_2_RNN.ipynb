{
  "cells": [
    {
      "cell_type": "code",
      "execution_count": null,
      "metadata": {
        "id": "_Xj3_zhZH75d"
      },
      "outputs": [],
      "source": [
        "import numpy as np\n",
        "import pandas as pd\n",
        "import seaborn as sns\n",
        "import matplotlib.pyplot as plt\n",
        "%matplotlib inline\n",
        "\n",
        "from scipy import stats\n",
        "from keras.datasets import imdb\n",
        "from keras.preprocessing.sequence import pad_sequences\n",
        "from keras.models import Sequential\n",
        "from keras.layers import Embedding\n",
        "from keras.layers import SimpleRNN,Dense,Activation\n",
        "import os"
      ]
    },
    {
      "cell_type": "code",
      "execution_count": null,
      "metadata": {
        "colab": {
          "base_uri": "https://localhost:8080/"
        },
        "id": "POXOiJK5Ira4",
        "outputId": "a9efeffb-bd47-4d42-ecba-cbc79d9eae35"
      },
      "outputs": [
        {
          "name": "stdout",
          "output_type": "stream",
          "text": [
            "Downloading data from https://storage.googleapis.com/tensorflow/tf-keras-datasets/imdb.npz\n",
            "17464789/17464789 [==============================] - 0s 0us/step\n"
          ]
        }
      ],
      "source": [
        "(X_train, Y_train), (X_test, Y_test) = imdb.load_data(num_words=None,skip_top=0,maxlen=None,start_char=1,seed=13,oov_char=2,index_from=3)"
      ]
    },
    {
      "cell_type": "code",
      "execution_count": null,
      "metadata": {
        "colab": {
          "base_uri": "https://localhost:8080/"
        },
        "id": "P4D4MYsZI108",
        "outputId": "c6e8cc2e-3b87-4891-831e-dc6edf3be7d8"
      },
      "outputs": [
        {
          "name": "stdout",
          "output_type": "stream",
          "text": [
            "25000 train sequences\n",
            "25000 test sequences\n"
          ]
        }
      ],
      "source": [
        "print(len(X_train), 'train sequences')\n",
        "print(len(X_test), 'test sequences')"
      ]
    },
    {
      "cell_type": "code",
      "execution_count": null,
      "metadata": {
        "colab": {
          "base_uri": "https://localhost:8080/"
        },
        "id": "wVYM5yJoI42J",
        "outputId": "f8647ddc-7470-4e2b-fc55-1e0f522ddc2c"
      },
      "outputs": [
        {
          "name": "stdout",
          "output_type": "stream",
          "text": [
            "Type:  <class 'numpy.ndarray'>\n",
            "Type:  <class 'numpy.ndarray'>\n"
          ]
        }
      ],
      "source": [
        "print(\"Type: \", type(X_train))\n",
        "print(\"Type: \", type(Y_train))"
      ]
    },
    {
      "cell_type": "code",
      "execution_count": null,
      "metadata": {
        "colab": {
          "base_uri": "https://localhost:8080/"
        },
        "id": "3ELmYyndI98p",
        "outputId": "c84052fb-9c72-4867-c0be-48626f5a759e"
      },
      "outputs": [
        {
          "name": "stdout",
          "output_type": "stream",
          "text": [
            "X train shape:  (25000,)\n",
            "Y train shape:  (25000,)\n"
          ]
        }
      ],
      "source": [
        "print(\"X train shape: \",X_train.shape)\n",
        "print(\"Y train shape: \",Y_train.shape)"
      ]
    },
    {
      "cell_type": "markdown",
      "metadata": {
        "id": "8Mrvc2C_JMlF"
      },
      "source": [
        "EDA\n"
      ]
    },
    {
      "cell_type": "code",
      "execution_count": null,
      "metadata": {
        "colab": {
          "base_uri": "https://localhost:8080/"
        },
        "id": "XJr92SCQJD0i",
        "outputId": "67788834-6c4d-4990-fedf-020970dddf0a"
      },
      "outputs": [
        {
          "name": "stdout",
          "output_type": "stream",
          "text": [
            "Y train values:  [0 1]\n",
            "Y test values:  [0 1]\n"
          ]
        }
      ],
      "source": [
        "print(\"Y train values: \",np.unique(Y_train))\n",
        "print(\"Y test values: \",np.unique(Y_test))"
      ]
    },
    {
      "cell_type": "code",
      "execution_count": null,
      "metadata": {
        "colab": {
          "base_uri": "https://localhost:8080/"
        },
        "id": "i2FBRG1pJKH_",
        "outputId": "8f01ef56-e974-47fc-ee41-4bad3ff62303"
      },
      "outputs": [
        {
          "name": "stdout",
          "output_type": "stream",
          "text": [
            "Y train distribution:  {0: 12500, 1: 12500}\n"
          ]
        }
      ],
      "source": [
        "unique,counts = np.unique(Y_train,return_counts=True)\n",
        "print(\"Y train distribution: \", dict(zip(unique,counts)))"
      ]
    },
    {
      "cell_type": "code",
      "execution_count": null,
      "metadata": {
        "colab": {
          "base_uri": "https://localhost:8080/"
        },
        "id": "WjDE0KbvJLzw",
        "outputId": "ef34b4b9-42be-4660-acff-0f67a4b59ed1"
      },
      "outputs": [
        {
          "name": "stdout",
          "output_type": "stream",
          "text": [
            "Y test distribution:  {0: 12500, 1: 12500}\n"
          ]
        }
      ],
      "source": [
        "unique,counts = np.unique(Y_test,return_counts=True)\n",
        "print(\"Y test distribution: \", dict(zip(unique,counts)))"
      ]
    },
    {
      "cell_type": "code",
      "execution_count": null,
      "metadata": {
        "colab": {
          "base_uri": "https://localhost:8080/"
        },
        "id": "0_e-17hlJQCw",
        "outputId": "2533cbc1-9fbf-4df6-8f92-f355a3bd5ea0"
      },
      "outputs": [
        {
          "name": "stdout",
          "output_type": "stream",
          "text": [
            "[1, 608, 13, 6467, 14, 22, 13, 80, 1109, 14, 20, 584, 18, 231, 72, 141, 6, 783, 254, 189, 7060, 13, 100, 115, 106, 14, 20, 584, 207, 82, 557, 111, 111, 537, 7, 4, 962, 12, 69, 11, 45, 204, 766, 33, 4, 8334, 23, 94, 797, 1048, 991, 527, 1987, 538, 2629, 4, 4518, 125, 72, 449, 8295, 68, 3385, 2500, 93, 14, 1190, 22, 13, 119, 12, 13, 197, 4, 226, 22, 16, 542, 5, 221, 14, 20, 9, 38, 629, 14, 9, 4, 6128, 20, 13, 28, 126, 110, 11, 61, 113, 24, 15, 51, 571, 11, 4, 22, 5, 4, 326, 7, 4, 22, 26, 24, 629, 195, 21, 51, 210, 188, 72, 16, 21849, 2726, 116, 118, 189, 22, 126, 164, 70, 126, 30, 14, 629, 174, 2195, 829, 33, 94, 61124]\n"
          ]
        }
      ],
      "source": [
        "print(X_train[0])\n"
      ]
    },
    {
      "cell_type": "code",
      "execution_count": null,
      "metadata": {
        "id": "uUHSuTqEJSXd"
      },
      "outputs": [],
      "source": [
        "review_len_train = []\n",
        "review_len_test = []\n",
        "for i,j in zip(X_train,X_test):\n",
        "    review_len_train.append(len(i))\n",
        "    review_len_test.append(len(j))"
      ]
    },
    {
      "cell_type": "code",
      "execution_count": null,
      "metadata": {
        "colab": {
          "base_uri": "https://localhost:8080/"
        },
        "id": "guXg7S12JcV3",
        "outputId": "4cae7937-6fea-4430-95b2-04ae50ae98bc"
      },
      "outputs": [
        {
          "name": "stdout",
          "output_type": "stream",
          "text": [
            "min:  11 max:  2494\n"
          ]
        }
      ],
      "source": [
        "print(\"min: \", min(review_len_train), \"max: \", max(review_len_train))"
      ]
    },
    {
      "cell_type": "code",
      "execution_count": null,
      "metadata": {
        "colab": {
          "base_uri": "https://localhost:8080/"
        },
        "id": "UF9OHIetJ44d",
        "outputId": "69a1c8d6-795c-4a39-cf2b-35ebe081ff96"
      },
      "outputs": [
        {
          "name": "stdout",
          "output_type": "stream",
          "text": [
            "min:  7 max:  2315\n"
          ]
        }
      ],
      "source": [
        "print(\"min: \", min(review_len_test), \"max: \", max(review_len_test))"
      ]
    },
    {
      "cell_type": "code",
      "execution_count": null,
      "metadata": {
        "colab": {
          "base_uri": "https://localhost:8080/",
          "height": 830
        },
        "id": "7Tl14XSAJ_6U",
        "outputId": "a5dea2b1-d9d5-47df-d515-825abcfe94fb"
      },
      "outputs": [
        {
          "name": "stderr",
          "output_type": "stream",
          "text": [
            "<ipython-input-13-bad388684519>:1: UserWarning: \n",
            "\n",
            "`distplot` is a deprecated function and will be removed in seaborn v0.14.0.\n",
            "\n",
            "Please adapt your code to use either `displot` (a figure-level function with\n",
            "similar flexibility) or `histplot` (an axes-level function for histograms).\n",
            "\n",
            "For a guide to updating your code to use the new functions, please see\n",
            "https://gist.github.com/mwaskom/de44147ed2974457ad6372750bbe5751\n",
            "\n",
            "  sns.distplot(review_len_train,hist_kws={\"alpha\":0.3});\n",
            "<ipython-input-13-bad388684519>:2: UserWarning: \n",
            "\n",
            "`distplot` is a deprecated function and will be removed in seaborn v0.14.0.\n",
            "\n",
            "Please adapt your code to use either `displot` (a figure-level function with\n",
            "similar flexibility) or `histplot` (an axes-level function for histograms).\n",
            "\n",
            "For a guide to updating your code to use the new functions, please see\n",
            "https://gist.github.com/mwaskom/de44147ed2974457ad6372750bbe5751\n",
            "\n",
            "  sns.distplot(review_len_test,hist_kws={\"alpha\":0.3});\n"
          ]
        },
        {
          "data": {
            "image/png": "[encoded data removed]",
            "text/plain": [
              "<Figure size 640x480 with 1 Axes>"
            ]
          },
          "metadata": {},
          "output_type": "display_data"
        }
      ],
      "source": [
        "sns.distplot(review_len_train,hist_kws={\"alpha\":0.3});\n",
        "sns.distplot(review_len_test,hist_kws={\"alpha\":0.3});"
      ]
    },
    {
      "cell_type": "code",
      "execution_count": null,
      "metadata": {
        "colab": {
          "base_uri": "https://localhost:8080/"
        },
        "id": "CLKQezuBKB2p",
        "outputId": "4c173b13-73d6-4903-df91-67b5652cc5c9"
      },
      "outputs": [
        {
          "name": "stdout",
          "output_type": "stream",
          "text": [
            "Train mean:  238.71364\n",
            "Train median:  178.0\n",
            "Train mode:  ModeResult(mode=132, count=196)\n"
          ]
        }
      ],
      "source": [
        "print(\"Train mean: \",np.mean(review_len_train))\n",
        "print(\"Train median: \",np.median(review_len_train))\n",
        "print(\"Train mode: \",stats.mode(review_len_train))"
      ]
    },
    {
      "cell_type": "code",
      "execution_count": null,
      "metadata": {
        "colab": {
          "base_uri": "https://localhost:8080/"
        },
        "id": "zM03iNvRKU6P",
        "outputId": "31529714-25da-4ec7-9c0c-d619230604da"
      },
      "outputs": [
        {
          "name": "stdout",
          "output_type": "stream",
          "text": [
            "Downloading data from https://storage.googleapis.com/tensorflow/tf-keras-datasets/imdb_word_index.json\n",
            "1641221/1641221 [==============================] - 0s 0us/step\n",
            "<class 'dict'>\n"
          ]
        }
      ],
      "source": [
        "# number or words\n",
        "word_index = imdb.get_word_index()\n",
        "print(type(word_index))"
      ]
    },
    {
      "cell_type": "code",
      "execution_count": null,
      "metadata": {
        "colab": {
          "base_uri": "https://localhost:8080/"
        },
        "id": "c4QQ4RACKYsC",
        "outputId": "c1f68011-7228-4ad3-cf47-6710595d2aaf"
      },
      "outputs": [
        {
          "name": "stdout",
          "output_type": "stream",
          "text": [
            "length of word_index:  88584\n"
          ]
        }
      ],
      "source": [
        "print(\"length of word_index: \",len(word_index))"
      ]
    },
    {
      "cell_type": "code",
      "execution_count": null,
      "metadata": {
        "id": "Lya4KOIuKnOR"
      },
      "outputs": [],
      "source": [
        "def decode(index=24):\n",
        "    reverse_index = dict([(value,key) for (key,value) in word_index.items()])\n",
        "    decode_review = \" \".join([reverse_index.get(i-3, \"!\") for i in X_train[index]])\n",
        "    print(decode_review)\n",
        "    print(Y_train[index])\n",
        "    return decode_review"
      ]
    },
    {
      "cell_type": "code",
      "execution_count": null,
      "metadata": {
        "colab": {
          "base_uri": "https://localhost:8080/"
        },
        "id": "jKuPHf01KziN",
        "outputId": "a2d1277b-cdb0-488c-d6c4-7701069dd3e9"
      },
      "outputs": [
        {
          "name": "stdout",
          "output_type": "stream",
          "text": [
            "! this movie was extremely funny i would like to own this for my vintage collection of 1970s movie must see again list i know this cast of characters they are people that i have met over the years and that prompt me to search out this comedy unfortunately this was never put to dvd or vhs redd foxx always a clown of comedy pearl baily a great match as his wife witty and sassy norman a son with a secret not sure if he will have a future if it is out dennis dugan crazy funny man miss dobson hooker with a heart and little conscience love lust strange family ties this movie qualifies for a come back encore performance situation comedy with a mix of events as this could and should find its way as a remake i do think finding cast would be extremely difficult maybe impossible except jerry seinfeld playing dennis dugan role this earmarks a couple of seinfeld episodes that also brought me back to norman is that you keeping them in the closest was surely impossible as impossible to reform pretend hooker girl friend and infidelity of a parent this movie was a wild ride advise of a cabbie remind me of episode kramer takes advice of his caddie over his lawyer episode from seinfeld the parents have there jaw dropping moment fun over fun it is screaming bring me back\n",
            "1\n"
          ]
        }
      ],
      "source": [
        "decoded_review =decode()"
      ]
    },
    {
      "cell_type": "markdown",
      "metadata": {
        "id": "qSjmqbadK6vI"
      },
      "source": [
        "# Preprocessing"
      ]
    },
    {
      "cell_type": "code",
      "execution_count": null,
      "metadata": {
        "colab": {
          "base_uri": "https://localhost:8080/"
        },
        "id": "lpKq_FTvDd-8",
        "outputId": "2e89ddfe-593e-4e90-cead-227affe4f4f4"
      },
      "outputs": [
        {
          "name": "stdout",
          "output_type": "stream",
          "text": [
            "\u001b[2K     \u001b[90m━━━━━━━━━━━━━━━━━━━━━━━━━━━━━━━━━━━━━━━━\u001b[0m \u001b[32m409.6/409.6 kB\u001b[0m \u001b[31m6.1 MB/s\u001b[0m eta \u001b[36m0:00:00\u001b[0m\n",
            "\u001b[2K     \u001b[90m━━━━━━━━━━━━━━━━━━━━━━━━━━━━━━━━━━━━━━━━\u001b[0m \u001b[32m226.8/226.8 kB\u001b[0m \u001b[31m21.6 MB/s\u001b[0m eta \u001b[36m0:00:00\u001b[0m\n",
            "\u001b[2K     \u001b[90m━━━━━━━━━━━━━━━━━━━━━━━━━━━━━━━━━━━━━━━━\u001b[0m \u001b[32m78.6/78.6 kB\u001b[0m \u001b[31m6.7 MB/s\u001b[0m eta \u001b[36m0:00:00\u001b[0m\n",
            "\u001b[?25h"
          ]
        }
      ],
      "source": [
        "!pip install --quiet optuna"
      ]
    },
    {
      "cell_type": "code",
      "execution_count": null,
      "metadata": {
        "colab": {
          "base_uri": "https://localhost:8080/",
          "height": 36
        },
        "id": "jfT9P3_bDhEf",
        "outputId": "f918187b-e35c-45f8-e99a-0144dc3529e8"
      },
      "outputs": [
        {
          "data": {
            "application/vnd.google.colaboratory.intrinsic+json": {
              "type": "string"
            },
            "text/plain": [
              "'3.4.0'"
            ]
          },
          "execution_count": 20,
          "metadata": {},
          "output_type": "execute_result"
        }
      ],
      "source": [
        "import optuna\n",
        "\n",
        "optuna.__version__"
      ]
    },
    {
      "cell_type": "code",
      "execution_count": null,
      "metadata": {
        "colab": {
          "base_uri": "https://localhost:8080/"
        },
        "id": "SAxPmOKaDMC_",
        "outputId": "84beb026-cb42-4b98-cd0f-0a2dccd686e1"
      },
      "outputs": [
        {
          "name": "stderr",
          "output_type": "stream",
          "text": [
            "[I 2023-12-01 06:26:08,942] A new study created in memory with name: no-name-10d977b3-e2f6-4c2e-b3a4-b8cc572f8278\n",
            "[I 2023-12-01 06:30:08,005] Trial 0 finished with value: 0.8403199911117554 and parameters: {'num_words': 60000, 'maxlen': 350, 'embedding_dim': 32, 'rnn_units': 8, 'optimizer_type': 'rmsprop'}. Best is trial 0 with value: 0.8403199911117554.\n",
            "[I 2023-12-01 06:38:03,490] Trial 1 finished with value: 0.829479992389679 and parameters: {'num_words': 45000, 'maxlen': 750, 'embedding_dim': 64, 'rnn_units': 16, 'optimizer_type': 'adam'}. Best is trial 0 with value: 0.8403199911117554.\n",
            "[I 2023-12-01 06:43:21,222] Trial 2 finished with value: 0.8648399710655212 and parameters: {'num_words': 75000, 'maxlen': 650, 'embedding_dim': 32, 'rnn_units': 16, 'optimizer_type': 'adam'}. Best is trial 2 with value: 0.8648399710655212.\n",
            "[I 2023-12-01 06:47:44,238] Trial 3 finished with value: 0.8502799868583679 and parameters: {'num_words': 30000, 'maxlen': 450, 'embedding_dim': 64, 'rnn_units': 32, 'optimizer_type': 'adam'}. Best is trial 2 with value: 0.8648399710655212.\n",
            "[I 2023-12-01 06:53:56,784] Trial 4 finished with value: 0.8574000000953674 and parameters: {'num_words': 45000, 'maxlen': 750, 'embedding_dim': 16, 'rnn_units': 32, 'optimizer_type': 'adam'}. Best is trial 2 with value: 0.8648399710655212.\n",
            "[I 2023-12-01 07:00:09,097] Trial 5 finished with value: 0.8533200025558472 and parameters: {'num_words': 15000, 'maxlen': 750, 'embedding_dim': 16, 'rnn_units': 32, 'optimizer_type': 'adam'}. Best is trial 2 with value: 0.8648399710655212.\n",
            "[I 2023-12-01 07:02:50,564] Trial 6 finished with value: 0.8471199870109558 and parameters: {'num_words': 88000, 'maxlen': 250, 'embedding_dim': 32, 'rnn_units': 16, 'optimizer_type': 'adam'}. Best is trial 2 with value: 0.8648399710655212.\n",
            "[I 2023-12-01 07:07:00,721] Trial 7 finished with value: 0.8714799880981445 and parameters: {'num_words': 15000, 'maxlen': 450, 'embedding_dim': 64, 'rnn_units': 8, 'optimizer_type': 'adam'}. Best is trial 7 with value: 0.8714799880981445.\n",
            "[I 2023-12-01 07:11:50,307] Trial 8 finished with value: 0.8550400137901306 and parameters: {'num_words': 88000, 'maxlen': 450, 'embedding_dim': 32, 'rnn_units': 32, 'optimizer_type': 'rmsprop'}. Best is trial 7 with value: 0.8714799880981445.\n",
            "[I 2023-12-01 07:13:46,091] Trial 9 finished with value: 0.8320800065994263 and parameters: {'num_words': 75000, 'maxlen': 250, 'embedding_dim': 16, 'rnn_units': 32, 'optimizer_type': 'rmsprop'}. Best is trial 7 with value: 0.8714799880981445.\n",
            "[I 2023-12-01 07:15:26,609] Trial 10 finished with value: 0.7544400095939636 and parameters: {'num_words': 15000, 'maxlen': 150, 'embedding_dim': 64, 'rnn_units': 8, 'optimizer_type': 'rmsprop'}. Best is trial 7 with value: 0.8714799880981445.\n",
            "[I 2023-12-01 07:20:43,125] Trial 11 finished with value: 0.8536400198936462 and parameters: {'num_words': 75000, 'maxlen': 650, 'embedding_dim': 32, 'rnn_units': 16, 'optimizer_type': 'adam'}. Best is trial 7 with value: 0.8714799880981445.\n",
            "[I 2023-12-01 07:26:30,467] Trial 12 finished with value: 0.8464800119400024 and parameters: {'num_words': 75000, 'maxlen': 550, 'embedding_dim': 64, 'rnn_units': 8, 'optimizer_type': 'adam'}. Best is trial 7 with value: 0.8714799880981445.\n",
            "[I 2023-12-01 07:32:41,394] Trial 13 finished with value: 0.8248000144958496 and parameters: {'num_words': 15000, 'maxlen': 650, 'embedding_dim': 64, 'rnn_units': 8, 'optimizer_type': 'adam'}. Best is trial 7 with value: 0.8714799880981445.\n",
            "[I 2023-12-01 07:37:53,515] Trial 14 finished with value: 0.8278399705886841 and parameters: {'num_words': 30000, 'maxlen': 650, 'embedding_dim': 32, 'rnn_units': 16, 'optimizer_type': 'adam'}. Best is trial 7 with value: 0.8714799880981445.\n",
            "[I 2023-12-01 07:41:23,154] Trial 15 finished with value: 0.8348399996757507 and parameters: {'num_words': 60000, 'maxlen': 450, 'embedding_dim': 32, 'rnn_units': 8, 'optimizer_type': 'adam'}. Best is trial 7 with value: 0.8714799880981445.\n",
            "[I 2023-12-01 07:42:59,646] Trial 16 finished with value: 0.8303599953651428 and parameters: {'num_words': 15000, 'maxlen': 150, 'embedding_dim': 64, 'rnn_units': 16, 'optimizer_type': 'adam'}. Best is trial 7 with value: 0.8714799880981445.\n",
            "[I 2023-12-01 07:49:11,772] Trial 17 finished with value: 0.8282399773597717 and parameters: {'num_words': 75000, 'maxlen': 550, 'embedding_dim': 64, 'rnn_units': 8, 'optimizer_type': 'adam'}. Best is trial 7 with value: 0.8714799880981445.\n",
            "[I 2023-12-01 07:52:55,058] Trial 18 finished with value: 0.8684800267219543 and parameters: {'num_words': 75000, 'maxlen': 350, 'embedding_dim': 32, 'rnn_units': 16, 'optimizer_type': 'rmsprop'}. Best is trial 7 with value: 0.8714799880981445.\n",
            "[I 2023-12-01 07:55:37,643] Trial 19 finished with value: 0.8787999749183655 and parameters: {'num_words': 15000, 'maxlen': 350, 'embedding_dim': 16, 'rnn_units': 16, 'optimizer_type': 'rmsprop'}. Best is trial 19 with value: 0.8787999749183655.\n",
            "[I 2023-12-01 07:58:29,228] Trial 20 finished with value: 0.8256800174713135 and parameters: {'num_words': 15000, 'maxlen': 350, 'embedding_dim': 16, 'rnn_units': 8, 'optimizer_type': 'rmsprop'}. Best is trial 19 with value: 0.8787999749183655.\n",
            "[I 2023-12-01 08:01:19,663] Trial 21 finished with value: 0.8443599939346313 and parameters: {'num_words': 15000, 'maxlen': 350, 'embedding_dim': 16, 'rnn_units': 16, 'optimizer_type': 'rmsprop'}. Best is trial 19 with value: 0.8787999749183655.\n",
            "[I 2023-12-01 08:03:55,715] Trial 22 finished with value: 0.879040002822876 and parameters: {'num_words': 15000, 'maxlen': 350, 'embedding_dim': 16, 'rnn_units': 16, 'optimizer_type': 'rmsprop'}. Best is trial 22 with value: 0.879040002822876.\n",
            "[I 2023-12-01 08:06:46,720] Trial 23 finished with value: 0.8386800289154053 and parameters: {'num_words': 15000, 'maxlen': 350, 'embedding_dim': 16, 'rnn_units': 16, 'optimizer_type': 'rmsprop'}. Best is trial 22 with value: 0.879040002822876.\n",
            "[I 2023-12-01 08:10:37,116] Trial 24 finished with value: 0.8745999932289124 and parameters: {'num_words': 15000, 'maxlen': 450, 'embedding_dim': 16, 'rnn_units': 16, 'optimizer_type': 'rmsprop'}. Best is trial 22 with value: 0.879040002822876.\n",
            "[I 2023-12-01 08:13:09,667] Trial 25 finished with value: 0.8506399989128113 and parameters: {'num_words': 15000, 'maxlen': 350, 'embedding_dim': 16, 'rnn_units': 16, 'optimizer_type': 'rmsprop'}. Best is trial 22 with value: 0.879040002822876.\n",
            "[I 2023-12-01 08:15:47,149] Trial 26 finished with value: 0.8623200058937073 and parameters: {'num_words': 15000, 'maxlen': 350, 'embedding_dim': 16, 'rnn_units': 16, 'optimizer_type': 'rmsprop'}. Best is trial 22 with value: 0.879040002822876.\n",
            "[I 2023-12-01 08:19:35,652] Trial 27 finished with value: 0.8496000170707703 and parameters: {'num_words': 15000, 'maxlen': 450, 'embedding_dim': 16, 'rnn_units': 16, 'optimizer_type': 'rmsprop'}. Best is trial 22 with value: 0.879040002822876.\n",
            "[I 2023-12-01 08:22:19,300] Trial 28 finished with value: 0.8374800086021423 and parameters: {'num_words': 30000, 'maxlen': 350, 'embedding_dim': 16, 'rnn_units': 16, 'optimizer_type': 'rmsprop'}. Best is trial 22 with value: 0.879040002822876.\n",
            "[I 2023-12-01 08:25:11,054] Trial 29 finished with value: 0.8765199780464172 and parameters: {'num_words': 60000, 'maxlen': 350, 'embedding_dim': 16, 'rnn_units': 16, 'optimizer_type': 'rmsprop'}. Best is trial 22 with value: 0.879040002822876.\n",
            "[I 2023-12-01 08:27:51,936] Trial 30 finished with value: 0.875760018825531 and parameters: {'num_words': 60000, 'maxlen': 350, 'embedding_dim': 16, 'rnn_units': 16, 'optimizer_type': 'rmsprop'}. Best is trial 22 with value: 0.879040002822876.\n",
            "[I 2023-12-01 08:30:38,895] Trial 31 finished with value: 0.8529999852180481 and parameters: {'num_words': 60000, 'maxlen': 350, 'embedding_dim': 16, 'rnn_units': 16, 'optimizer_type': 'rmsprop'}. Best is trial 22 with value: 0.879040002822876.\n",
            "[I 2023-12-01 08:33:24,615] Trial 32 finished with value: 0.843559980392456 and parameters: {'num_words': 60000, 'maxlen': 350, 'embedding_dim': 16, 'rnn_units': 16, 'optimizer_type': 'rmsprop'}. Best is trial 22 with value: 0.879040002822876.\n",
            "[I 2023-12-01 08:36:08,633] Trial 33 finished with value: 0.8669599890708923 and parameters: {'num_words': 60000, 'maxlen': 350, 'embedding_dim': 16, 'rnn_units': 16, 'optimizer_type': 'rmsprop'}. Best is trial 22 with value: 0.879040002822876.\n",
            "[I 2023-12-01 08:38:26,093] Trial 34 finished with value: 0.8649200201034546 and parameters: {'num_words': 60000, 'maxlen': 350, 'embedding_dim': 16, 'rnn_units': 16, 'optimizer_type': 'rmsprop'}. Best is trial 22 with value: 0.879040002822876.\n",
            "[I 2023-12-01 08:41:05,153] Trial 35 finished with value: 0.870199978351593 and parameters: {'num_words': 45000, 'maxlen': 350, 'embedding_dim': 16, 'rnn_units': 16, 'optimizer_type': 'rmsprop'}. Best is trial 22 with value: 0.879040002822876.\n",
            "[I 2023-12-01 08:46:16,408] Trial 36 finished with value: 0.8469200134277344 and parameters: {'num_words': 60000, 'maxlen': 750, 'embedding_dim': 16, 'rnn_units': 16, 'optimizer_type': 'rmsprop'}. Best is trial 22 with value: 0.879040002822876.\n",
            "[I 2023-12-01 08:49:08,082] Trial 37 finished with value: 0.856440007686615 and parameters: {'num_words': 60000, 'maxlen': 250, 'embedding_dim': 16, 'rnn_units': 16, 'optimizer_type': 'rmsprop'}. Best is trial 22 with value: 0.879040002822876.\n",
            "[I 2023-12-01 08:52:58,062] Trial 38 finished with value: 0.868399977684021 and parameters: {'num_words': 45000, 'maxlen': 350, 'embedding_dim': 16, 'rnn_units': 32, 'optimizer_type': 'rmsprop'}. Best is trial 22 with value: 0.879040002822876.\n",
            "[I 2023-12-01 08:56:45,042] Trial 39 finished with value: 0.8705599904060364 and parameters: {'num_words': 88000, 'maxlen': 550, 'embedding_dim': 16, 'rnn_units': 16, 'optimizer_type': 'rmsprop'}. Best is trial 22 with value: 0.879040002822876.\n",
            "[I 2023-12-01 08:58:06,645] Trial 40 finished with value: 0.8601199984550476 and parameters: {'num_words': 60000, 'maxlen': 150, 'embedding_dim': 16, 'rnn_units': 32, 'optimizer_type': 'rmsprop'}. Best is trial 22 with value: 0.879040002822876.\n",
            "[I 2023-12-01 09:03:17,517] Trial 41 finished with value: 0.8654400110244751 and parameters: {'num_words': 15000, 'maxlen': 750, 'embedding_dim': 16, 'rnn_units': 16, 'optimizer_type': 'rmsprop'}. Best is trial 22 with value: 0.879040002822876.\n",
            "[I 2023-12-01 09:07:04,305] Trial 42 finished with value: 0.8166400194168091 and parameters: {'num_words': 30000, 'maxlen': 450, 'embedding_dim': 16, 'rnn_units': 16, 'optimizer_type': 'rmsprop'}. Best is trial 22 with value: 0.879040002822876.\n",
            "[I 2023-12-01 09:10:55,801] Trial 43 finished with value: 0.8779600262641907 and parameters: {'num_words': 88000, 'maxlen': 450, 'embedding_dim': 16, 'rnn_units': 16, 'optimizer_type': 'rmsprop'}. Best is trial 22 with value: 0.879040002822876.\n",
            "[I 2023-12-01 09:13:31,250] Trial 44 finished with value: 0.8262400031089783 and parameters: {'num_words': 88000, 'maxlen': 350, 'embedding_dim': 16, 'rnn_units': 16, 'optimizer_type': 'rmsprop'}. Best is trial 22 with value: 0.879040002822876.\n",
            "[I 2023-12-01 09:16:06,206] Trial 45 finished with value: 0.8329600095748901 and parameters: {'num_words': 88000, 'maxlen': 350, 'embedding_dim': 16, 'rnn_units': 16, 'optimizer_type': 'rmsprop'}. Best is trial 22 with value: 0.879040002822876.\n",
            "[I 2023-12-01 09:18:57,552] Trial 46 finished with value: 0.663640022277832 and parameters: {'num_words': 88000, 'maxlen': 250, 'embedding_dim': 16, 'rnn_units': 16, 'optimizer_type': 'rmsprop'}. Best is trial 22 with value: 0.879040002822876.\n",
            "[I 2023-12-01 09:22:47,527] Trial 47 finished with value: 0.8584799766540527 and parameters: {'num_words': 88000, 'maxlen': 450, 'embedding_dim': 16, 'rnn_units': 32, 'optimizer_type': 'rmsprop'}. Best is trial 22 with value: 0.879040002822876.\n",
            "[I 2023-12-01 09:27:58,390] Trial 48 finished with value: 0.879040002822876 and parameters: {'num_words': 60000, 'maxlen': 650, 'embedding_dim': 32, 'rnn_units': 16, 'optimizer_type': 'rmsprop'}. Best is trial 22 with value: 0.879040002822876.\n",
            "[I 2023-12-01 09:33:09,392] Trial 49 finished with value: 0.875760018825531 and parameters: {'num_words': 45000, 'maxlen': 650, 'embedding_dim': 32, 'rnn_units': 16, 'optimizer_type': 'rmsprop'}. Best is trial 22 with value: 0.879040002822876.\n"
          ]
        },
        {
          "name": "stdout",
          "output_type": "stream",
          "text": [
            "Best hyperparameters: {'num_words': 15000, 'maxlen': 350, 'embedding_dim': 16, 'rnn_units': 16, 'optimizer_type': 'rmsprop'}\n"
          ]
        }
      ],
      "source": [
        "import optuna\n",
        "from keras.datasets import imdb\n",
        "from keras.preprocessing.sequence import pad_sequences\n",
        "from keras.models import Sequential\n",
        "from keras.layers import Embedding, SimpleRNN, Dense, Activation\n",
        "from keras.optimizers import RMSprop, Adam\n",
        "\n",
        "def build_rnn_model(num_words, maxlen, embedding_dim=32, rnn_units=16, optimizer_type='rmsprop'):\n",
        "    model = Sequential()\n",
        "    model.add(Embedding(num_words, embedding_dim, input_length=maxlen))\n",
        "    model.add(SimpleRNN(rnn_units, return_sequences=False, activation=\"relu\"))\n",
        "    model.add(Dense(1))\n",
        "    model.add(Activation(\"sigmoid\"))\n",
        "\n",
        "    if optimizer_type == 'rmsprop':\n",
        "        optimizer = RMSprop()\n",
        "    else:\n",
        "        optimizer = Adam()\n",
        "\n",
        "    model.compile(loss=\"binary_crossentropy\", optimizer=optimizer, metrics=[\"accuracy\"])\n",
        "    return model\n",
        "\n",
        "def objective(trial):\n",
        "    # Suggesting hyperparameters\n",
        "    num_words = trial.suggest_categorical('num_words', [15000, 30000, 45000, 60000, 75000, 88000])\n",
        "    maxlen = trial.suggest_categorical('maxlen', [150, 250, 350, 450, 550, 650, 750])\n",
        "    embedding_dim = trial.suggest_categorical('embedding_dim', [16, 32, 64])\n",
        "    rnn_units = trial.suggest_categorical('rnn_units', [8, 16, 32])\n",
        "    optimizer_type = trial.suggest_categorical('optimizer_type', ['rmsprop', 'adam'])\n",
        "\n",
        "    # Load and preprocess data\n",
        "    (X_train, Y_train), (X_test, Y_test) = imdb.load_data(num_words=num_words)\n",
        "    X_train = pad_sequences(X_train, maxlen=maxlen)\n",
        "    X_test = pad_sequences(X_test, maxlen=maxlen)\n",
        "\n",
        "    # Build and compile model\n",
        "    model = build_rnn_model(num_words, maxlen, embedding_dim, rnn_units, optimizer_type)\n",
        "\n",
        "    # Fit the model\n",
        "    history = model.fit(X_train, Y_train, validation_data=(X_test, Y_test),\n",
        "                        epochs=5, batch_size=128, verbose=0)\n",
        "\n",
        "    # Evaluate the model\n",
        "    loss, accuracy = model.evaluate(X_test, Y_test, verbose=0)\n",
        "    return accuracy\n",
        "\n",
        "# Running the study\n",
        "study = optuna.create_study(direction='maximize')\n",
        "study.optimize(objective, n_trials=50)  # Adjust the number of trials as needed\n",
        "\n",
        "# Best hyperparameters\n",
        "best_params = study.best_params\n",
        "print('Best hyperparameters:', best_params)\n",
        "\n",
        "# Rebuild the model with the best parameters\n",
        "best_model = build_rnn_model(best_params['num_words'], best_params['maxlen'],\n",
        "                             best_params['embedding_dim'], best_params['rnn_units'],\n",
        "                             best_params['optimizer_type'])\n"
      ]
    },
    {
      "cell_type": "code",
      "execution_count": null,
      "metadata": {
        "id": "ls51euSzDL6b"
      },
      "outputs": [],
      "source": []
    },
    {
      "cell_type": "markdown",
      "metadata": {},
      "source": [
        "Manual Hyperparameter Tuning"
      ]
    },
    {
      "cell_type": "markdown",
      "metadata": {
        "id": "yYo1mRNALZt4"
      },
      "source": [
        "# RNN"
      ]
    },
    {
      "cell_type": "code",
      "execution_count": null,
      "metadata": {
        "id": "GazMb7DJcqw3"
      },
      "outputs": [],
      "source": [
        "num_words = 15000\n",
        "(X_train,Y_train),(X_test,Y_test) = imdb.load_data(num_words=num_words)"
      ]
    },
    {
      "cell_type": "code",
      "execution_count": null,
      "metadata": {
        "id": "K8l6FT9hcrbk"
      },
      "outputs": [],
      "source": [
        "maxlen=500\n",
        "X_train = pad_sequences(X_train, maxlen=maxlen)\n",
        "X_test = pad_sequences(X_test, maxlen=maxlen)"
      ]
    },
    {
      "cell_type": "code",
      "execution_count": null,
      "metadata": {
        "colab": {
          "base_uri": "https://localhost:8080/"
        },
        "id": "wiR4izjccvS4",
        "outputId": "3188b230-9abd-49c3-d5ab-c2a8e1602136"
      },
      "outputs": [
        {
          "name": "stdout",
          "output_type": "stream",
          "text": [
            "X train shape:  (25000, 500)\n"
          ]
        }
      ],
      "source": [
        "print(\"X train shape: \",X_train.shape)"
      ]
    },
    {
      "cell_type": "code",
      "execution_count": null,
      "metadata": {
        "colab": {
          "base_uri": "https://localhost:8080/"
        },
        "id": "UIVh0r96cxmo",
        "outputId": "f990a4bd-1e5d-41f2-f649-4c2fcc9a79a5"
      },
      "outputs": [
        {
          "name": "stdout",
          "output_type": "stream",
          "text": [
            "500\n",
            "500\n",
            "500\n",
            "500\n",
            "500\n"
          ]
        }
      ],
      "source": [
        "for i in X_train[0:5]:\n",
        "    print(len(i))"
      ]
    },
    {
      "cell_type": "code",
      "execution_count": null,
      "metadata": {
        "colab": {
          "base_uri": "https://localhost:8080/"
        },
        "id": "YbI-r8hOc0up",
        "outputId": "36533409-fc6c-4d7e-ddf6-841b0c56003e"
      },
      "outputs": [
        {
          "name": "stdout",
          "output_type": "stream",
          "text": [
            "Model: \"sequential_1\"\n",
            "_________________________________________________________________\n",
            " Layer (type)                Output Shape              Param #   \n",
            "=================================================================\n",
            " embedding_1 (Embedding)     (None, 500, 32)           480000    \n",
            "                                                                 \n",
            " simple_rnn_1 (SimpleRNN)    (None, 16)                784       \n",
            "                                                                 \n",
            " dense_1 (Dense)             (None, 1)                 17        \n",
            "                                                                 \n",
            " activation_1 (Activation)   (None, 1)                 0         \n",
            "                                                                 \n",
            "=================================================================\n",
            "Total params: 480801 (1.83 MB)\n",
            "Trainable params: 480801 (1.83 MB)\n",
            "Non-trainable params: 0 (0.00 Byte)\n",
            "_________________________________________________________________\n",
            "None\n"
          ]
        }
      ],
      "source": [
        "rnn = Sequential()\n",
        "\n",
        "rnn.add(Embedding(num_words,32,input_length =len(X_train[0])))\n",
        "rnn.add(SimpleRNN(16,input_shape = (num_words,maxlen), return_sequences=False,activation=\"relu\"))\n",
        "rnn.add(Dense(1)) #flatten\n",
        "rnn.add(Activation(\"sigmoid\")) #using sigmoid for binary classification\n",
        "\n",
        "print(rnn.summary())\n",
        "rnn.compile(loss=\"binary_crossentropy\",optimizer=\"rmsprop\",metrics=[\"accuracy\"])"
      ]
    },
    {
      "cell_type": "code",
      "execution_count": null,
      "metadata": {
        "colab": {
          "base_uri": "https://localhost:8080/"
        },
        "id": "YM_uvYAic26u",
        "outputId": "03852bd3-e908-4a26-cc68-a4b1b05a7121"
      },
      "outputs": [
        {
          "name": "stdout",
          "output_type": "stream",
          "text": [
            "Epoch 1/5\n",
            "196/196 [==============================] - 41s 201ms/step - loss: 0.6598 - accuracy: 0.6082 - val_loss: 0.5329 - val_accuracy: 0.7834\n",
            "Epoch 2/5\n",
            "196/196 [==============================] - 38s 195ms/step - loss: 0.4584 - accuracy: 0.8121 - val_loss: 0.4515 - val_accuracy: 0.8069\n",
            "Epoch 3/5\n",
            "196/196 [==============================] - 35s 180ms/step - loss: 0.3240 - accuracy: 0.8698 - val_loss: 0.3827 - val_accuracy: 0.8586\n",
            "Epoch 4/5\n",
            "196/196 [==============================] - 38s 196ms/step - loss: 0.2723 - accuracy: 0.8952 - val_loss: 0.2982 - val_accuracy: 0.8774\n",
            "Epoch 5/5\n",
            "196/196 [==============================] - 39s 199ms/step - loss: 0.2297 - accuracy: 0.9148 - val_loss: 0.3085 - val_accuracy: 0.8748\n"
          ]
        }
      ],
      "source": [
        "history = rnn.fit(X_train,Y_train,\n",
        "                  validation_data = (X_test,Y_test),\n",
        "                  epochs = 5,\n",
        "                  batch_size=128,\n",
        "                  verbose = 1)"
      ]
    },
    {
      "cell_type": "code",
      "execution_count": null,
      "metadata": {
        "colab": {
          "base_uri": "https://localhost:8080/"
        },
        "id": "bRszbsyQc5Yw",
        "outputId": "1836dbbe-4e1f-471b-aee1-5641c3eeaf29"
      },
      "outputs": [
        {
          "name": "stdout",
          "output_type": "stream",
          "text": [
            "15000 - 500\n",
            "782/782 [==============================] - 19s 25ms/step - loss: 0.3085 - accuracy: 0.8748\n"
          ]
        }
      ],
      "source": [
        "print(\"15000 - 500\")\n",
        "score = rnn.evaluate(X_test,Y_test)\n"
      ]
    },
    {
      "cell_type": "code",
      "execution_count": null,
      "metadata": {
        "colab": {
          "base_uri": "https://localhost:8080/"
        },
        "id": "HklEoxq7dBwF",
        "outputId": "0860f21f-0a4f-4156-f27e-5ebe19545cb4"
      },
      "outputs": [
        {
          "name": "stdout",
          "output_type": "stream",
          "text": [
            "15000 - 500\n",
            "\n",
            " accuracy: 87.47599720954895\n"
          ]
        }
      ],
      "source": [
        "print(\"15000 - 500\")\n",
        "print(\"\\n accuracy:\", score[1]*100)\n"
      ]
    },
    {
      "cell_type": "code",
      "execution_count": null,
      "metadata": {
        "colab": {
          "base_uri": "https://localhost:8080/",
          "height": 472
        },
        "id": "1Zs7WG3sdNia",
        "outputId": "0953f119-72a8-44fb-c5c8-2df564ff7494"
      },
      "outputs": [
        {
          "data": {
            "image/png": "[encoded data removed]",
            "text/plain": [
              "<Figure size 640x480 with 1 Axes>"
            ]
          },
          "metadata": {},
          "output_type": "display_data"
        }
      ],
      "source": [
        "plt.figure()\n",
        "plt.plot(history.history[\"accuracy\"],label=\"Train\");\n",
        "plt.plot(history.history[\"val_accuracy\"],label=\"Test\");\n",
        "plt.title(\"Accuracy\")\n",
        "plt.ylabel(\"Accuracy\")\n",
        "plt.xlabel(\"Epochs\")\n",
        "plt.legend()\n",
        "plt.show();"
      ]
    },
    {
      "cell_type": "code",
      "execution_count": null,
      "metadata": {
        "colab": {
          "base_uri": "https://localhost:8080/",
          "height": 472
        },
        "id": "GtigW9L8dO8s",
        "outputId": "32298b1c-618d-417f-d577-c8c16efbbae9"
      },
      "outputs": [
        {
          "data": {
            "image/png": "[encoded data removed]",
            "text/plain": [
              "<Figure size 640x480 with 1 Axes>"
            ]
          },
          "metadata": {},
          "output_type": "display_data"
        }
      ],
      "source": [
        "plt.figure()\n",
        "plt.plot(history.history[\"loss\"],label=\"Train\");\n",
        "plt.plot(history.history[\"val_loss\"],label=\"Test\");\n",
        "plt.title(\"Loss\")\n",
        "plt.ylabel(\"Loss\")\n",
        "plt.xlabel(\"Epochs\")\n",
        "plt.legend()\n",
        "plt.show();"
      ]
    }
  ],
  "metadata": {
    "colab": {
      "provenance": []
    },
    "kernelspec": {
      "display_name": "Python 3",
      "name": "python3"
    },
    "language_info": {
      "name": "python"
    }
  },
  "nbformat": 4,
  "nbformat_minor": 0
}
